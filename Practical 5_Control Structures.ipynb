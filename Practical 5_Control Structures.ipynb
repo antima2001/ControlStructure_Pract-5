{
 "cells": [
  {
   "cell_type": "markdown",
   "id": "07ed64b5",
   "metadata": {},
   "source": [
    "Program based on Control Structures\n",
    "-> Condition checking\n",
    "-> if\n",
    "-> for\n",
    "-> while\n",
    "-> continue and break"
   ]
  },
  {
   "cell_type": "code",
   "execution_count": 1,
   "id": "1496895a",
   "metadata": {},
   "outputs": [
    {
     "data": {
      "text/plain": [
       "False"
      ]
     },
     "execution_count": 1,
     "metadata": {},
     "output_type": "execute_result"
    }
   ],
   "source": [
    "# Simple and combination of tests\n",
    "\n",
    "num = 5\n",
    "num > 25"
   ]
  },
  {
   "cell_type": "code",
   "execution_count": 2,
   "id": "d5919806",
   "metadata": {},
   "outputs": [
    {
     "data": {
      "text/plain": [
       "True"
      ]
     },
     "execution_count": 2,
     "metadata": {},
     "output_type": "execute_result"
    }
   ],
   "source": [
    "num > 3 and num <= 5"
   ]
  },
  {
   "cell_type": "code",
   "execution_count": 3,
   "id": "b7912101",
   "metadata": {},
   "outputs": [
    {
     "data": {
      "text/plain": [
       "True"
      ]
     },
     "execution_count": 3,
     "metadata": {},
     "output_type": "execute_result"
    }
   ],
   "source": [
    "3 < num <= 5"
   ]
  },
  {
   "cell_type": "code",
   "execution_count": 5,
   "id": "3f30bceb",
   "metadata": {},
   "outputs": [
    {
     "data": {
      "text/plain": [
       "True"
      ]
     },
     "execution_count": 5,
     "metadata": {},
     "output_type": "execute_result"
    }
   ],
   "source": [
    "num % 3 == 0 or num % 5 == 0"
   ]
  },
  {
   "cell_type": "code",
   "execution_count": 43,
   "id": "078e00d6",
   "metadata": {},
   "outputs": [
    {
     "data": {
      "text/plain": [
       "False"
      ]
     },
     "execution_count": 43,
     "metadata": {},
     "output_type": "execute_result"
    }
   ],
   "source": [
    "fav_fiction_antima = 'Harry Potter'\n",
    "fav_detective_antima = 'Sherlock Holmes'\n",
    "fav_fiction_antima == fav_detective_antima"
   ]
  },
  {
   "cell_type": "code",
   "execution_count": 44,
   "id": "87c1d64e",
   "metadata": {},
   "outputs": [
    {
     "data": {
      "text/plain": [
       "True"
      ]
     },
     "execution_count": 44,
     "metadata": {},
     "output_type": "execute_result"
    }
   ],
   "source": [
    "fav_fiction_antima == 'Harry Potter'"
   ]
  },
  {
   "cell_type": "markdown",
   "id": "922b8052",
   "metadata": {},
   "source": [
    "Testing variable or value by themselves"
   ]
  },
  {
   "cell_type": "code",
   "execution_count": 9,
   "id": "20adac9b",
   "metadata": {},
   "outputs": [
    {
     "data": {
      "text/plain": [
       "True"
      ]
     },
     "execution_count": 9,
     "metadata": {},
     "output_type": "execute_result"
    }
   ],
   "source": [
    "bool(num)"
   ]
  },
  {
   "cell_type": "code",
   "execution_count": 10,
   "id": "bae50c53",
   "metadata": {},
   "outputs": [
    {
     "data": {
      "text/plain": [
       "True"
      ]
     },
     "execution_count": 10,
     "metadata": {},
     "output_type": "execute_result"
    }
   ],
   "source": [
    "bool(fav_detective)"
   ]
  },
  {
   "cell_type": "code",
   "execution_count": 11,
   "id": "46d304fc",
   "metadata": {},
   "outputs": [
    {
     "data": {
      "text/plain": [
       "True"
      ]
     },
     "execution_count": 11,
     "metadata": {},
     "output_type": "execute_result"
    }
   ],
   "source": [
    "bool(3)"
   ]
  },
  {
   "cell_type": "code",
   "execution_count": 12,
   "id": "5b7fdfc6",
   "metadata": {},
   "outputs": [
    {
     "data": {
      "text/plain": [
       "False"
      ]
     },
     "execution_count": 12,
     "metadata": {},
     "output_type": "execute_result"
    }
   ],
   "source": [
    "bool(0)"
   ]
  },
  {
   "cell_type": "code",
   "execution_count": 13,
   "id": "80bf3a0c",
   "metadata": {},
   "outputs": [
    {
     "data": {
      "text/plain": [
       "False"
      ]
     },
     "execution_count": 13,
     "metadata": {},
     "output_type": "execute_result"
    }
   ],
   "source": [
    "bool(\"\")"
   ]
  },
  {
   "cell_type": "code",
   "execution_count": 14,
   "id": "ab05a949",
   "metadata": {},
   "outputs": [
    {
     "data": {
      "text/plain": [
       "False"
      ]
     },
     "execution_count": 14,
     "metadata": {},
     "output_type": "execute_result"
    }
   ],
   "source": [
    "bool(None)"
   ]
  },
  {
   "cell_type": "code",
   "execution_count": 15,
   "id": "eeb02e32",
   "metadata": {},
   "outputs": [
    {
     "name": "stdout",
     "output_type": "stream",
     "text": [
      "-1 evaluates to True in condition checking\n"
     ]
    }
   ],
   "source": [
    "if -1:\n",
    "    print(\"-1 evaluates to True in condition checking\")"
   ]
  },
  {
   "cell_type": "markdown",
   "id": "51ae213e",
   "metadata": {},
   "source": [
    "The use of if operator in condition checking"
   ]
  },
  {
   "cell_type": "code",
   "execution_count": 21,
   "id": "1ad84b78",
   "metadata": {},
   "outputs": [
    {
     "name": "stdout",
     "output_type": "stream",
     "text": [
      "Number passes congition\n"
     ]
    }
   ],
   "source": [
    "def num_chk_antima(n):\n",
    "    if n == 10 or n == 21 or n == 33:\n",
    "        print(\"Number passes congition\")\n",
    "    else:\n",
    "        print(\"Number fails condition\")\n",
    "num_chk_antima(10)"
   ]
  },
  {
   "cell_type": "code",
   "execution_count": 22,
   "id": "43fcf298",
   "metadata": {},
   "outputs": [
    {
     "name": "stdout",
     "output_type": "stream",
     "text": [
      "Number fails condition\n"
     ]
    }
   ],
   "source": [
    "num_chk_antima(12)"
   ]
  },
  {
   "cell_type": "code",
   "execution_count": 45,
   "id": "3143d860",
   "metadata": {},
   "outputs": [
    {
     "name": "stdout",
     "output_type": "stream",
     "text": [
      "Number fails condition\n"
     ]
    }
   ],
   "source": [
    "# 2nd way\n",
    "def num_chk2_antima(n):\n",
    "    if n in (10, 21, 33):\n",
    "        print(\"Number passes condition\")\n",
    "    else:\n",
    "        print(\"Number fails condition\")\n",
    "num_chk2_antima(12)"
   ]
  },
  {
   "cell_type": "code",
   "execution_count": 24,
   "id": "5026ff18",
   "metadata": {},
   "outputs": [
    {
     "name": "stdout",
     "output_type": "stream",
     "text": [
      "Number passes condition\n"
     ]
    }
   ],
   "source": [
    "num_chk2_antima(10)"
   ]
  },
  {
   "cell_type": "markdown",
   "id": "b24aff8e",
   "metadata": {},
   "source": [
    "->  if"
   ]
  },
  {
   "cell_type": "code",
   "execution_count": 25,
   "id": "904635d5",
   "metadata": {},
   "outputs": [
    {
     "name": "stdout",
     "output_type": "stream",
     "text": [
      "Hurray! 45 is greater than 25\n"
     ]
    }
   ],
   "source": [
    "num = 45\n",
    "\n",
    "# only if\n",
    "\n",
    "if num > 25:\n",
    "    print(\"Hurray! {} is greater than 25\".format(num))\n",
    "    "
   ]
  },
  {
   "cell_type": "code",
   "execution_count": 26,
   "id": "ef1dd2a4",
   "metadata": {},
   "outputs": [
    {
     "name": "stdout",
     "output_type": "stream",
     "text": [
      "45 is an odd number\n"
     ]
    }
   ],
   "source": [
    "# if-else\n",
    "\n",
    "if num % 2 == 0:\n",
    "    print(\"{} is an even number\".format(num))\n",
    "else:\n",
    "    print(\"{} is an odd number\".format(num))\n",
    "    "
   ]
  },
  {
   "cell_type": "code",
   "execution_count": 27,
   "id": "ec64b330",
   "metadata": {},
   "outputs": [
    {
     "name": "stdout",
     "output_type": "stream",
     "text": [
      "45 is a positive number\n"
     ]
    }
   ],
   "source": [
    "#if-elif-else\n",
    "#any number of elif can be used\n",
    "\n",
    "if num < 0:\n",
    "    print(\"{} is a negative number\".format(num))\n",
    "elif num > 0:\n",
    "    print(\"{} is a positive number\".format(num))\n",
    "else:\n",
    "    print(\"{} is neither positive nor a negative number\".format(num))\n",
    "    "
   ]
  },
  {
   "cell_type": "code",
   "execution_count": 30,
   "id": "8a342fe6",
   "metadata": {},
   "outputs": [
    {
     "name": "stdout",
     "output_type": "stream",
     "text": [
      "42 is an even number\n"
     ]
    }
   ],
   "source": [
    "#another way\n",
    "\n",
    "num = 42\n",
    "\n",
    "num_type_antima = 'even' if num % 2 == 0 else 'odd'\n",
    "print(\"{} is an {} number\".format(num, num_type_antima))"
   ]
  },
  {
   "cell_type": "code",
   "execution_count": 31,
   "id": "7edcc348",
   "metadata": {},
   "outputs": [
    {
     "name": "stdout",
     "output_type": "stream",
     "text": [
      "9 * 1 = 9\n",
      "9 * 2 = 18\n",
      "9 * 3 = 27\n",
      "9 * 4 = 36\n"
     ]
    }
   ],
   "source": [
    "number_antima = 9\n",
    "for i in range(1,5):\n",
    "    mul_table = number_antima * i\n",
    "    print(\"{} * {} = {}\".format(number_antima, i, mul_table))\n",
    "    "
   ]
  },
  {
   "cell_type": "code",
   "execution_count": 32,
   "id": "24b6c277",
   "metadata": {},
   "outputs": [
    {
     "name": "stdout",
     "output_type": "stream",
     "text": [
      "Enter a positive integer :dwds\n",
      "Enter a positive integer :-43\n",
      "Enter a positive integer :!!\n",
      "Enter a positive integer :43\n"
     ]
    }
   ],
   "source": [
    "#While\n",
    "#continuously ask user input till it is a positive integer\n",
    "\n",
    "usr_string_antima = 'not a number'\n",
    "while not usr_string_antima.isnumeric():\n",
    "    usr_string_antima = input(\"Enter a positive integer :\")"
   ]
  },
  {
   "cell_type": "code",
   "execution_count": 35,
   "id": "bc7a8a9f",
   "metadata": {},
   "outputs": [
    {
     "name": "stdout",
     "output_type": "stream",
     "text": [
      "The first ten numbers in fibonacci sequence :0 1 1 2 3 5 8 13 21 34 \n"
     ]
    }
   ],
   "source": [
    "#continue \n",
    "\n",
    "prev_num_antima = 0\n",
    "curr_num_antima = 0\n",
    "print(\"The first ten numbers in fibonacci sequence :\",end='')\n",
    "\n",
    "for num in range(10):\n",
    "    print(curr_num_antima, end=' ')\n",
    "    \n",
    "    if num == 0:\n",
    "        curr_num_antima = 1\n",
    "        continue\n",
    "        \n",
    "    temp = curr_num_antima\n",
    "    curr_num_antima = curr_num_antima + prev_num_antima\n",
    "    prev_num_antima = temp\n",
    "    \n",
    "print(\"\")\n"
   ]
  },
  {
   "cell_type": "code",
   "execution_count": 38,
   "id": "92fa9601",
   "metadata": {},
   "outputs": [
    {
     "name": "stdout",
     "output_type": "stream",
     "text": [
      "Random number divisible by 4 and 6: 490\n"
     ]
    }
   ],
   "source": [
    "# break - skip rest of statements in the loop (if any) and exit loop\n",
    "\n",
    "import random\n",
    "\n",
    "while True:\n",
    "    #as with range() function, 500 is not inclusive\n",
    "    random_int_antima = random.randrange(500)\n",
    "    if random_int % 4 == 0 and random_int % 6 == 0:\n",
    "        break\n",
    "print(\"Random number divisible by 4 and 6: {}\".format(random_int_antima))\n"
   ]
  },
  {
   "cell_type": "code",
   "execution_count": 40,
   "id": "6e460897",
   "metadata": {},
   "outputs": [
    {
     "name": "stdout",
     "output_type": "stream",
     "text": [
      "Enter a positive integer: hjdfk\n",
      "Enter a positive integer: @@\n",
      "Enter a positive integer: -676\n",
      "Enter a positive integer: 45.5\n",
      "Enter a positive integer: 23\n"
     ]
    }
   ],
   "source": [
    "while True:\n",
    "    usr_string_antima = input(\"Enter a positive integer: \")\n",
    "    if usr_string_antima.isnumeric():\n",
    "        break\n",
    "    "
   ]
  },
  {
   "cell_type": "code",
   "execution_count": null,
   "id": "addd2aa7",
   "metadata": {},
   "outputs": [],
   "source": []
  }
 ],
 "metadata": {
  "kernelspec": {
   "display_name": "Python 3 (ipykernel)",
   "language": "python",
   "name": "python3"
  },
  "language_info": {
   "codemirror_mode": {
    "name": "ipython",
    "version": 3
   },
   "file_extension": ".py",
   "mimetype": "text/x-python",
   "name": "python",
   "nbconvert_exporter": "python",
   "pygments_lexer": "ipython3",
   "version": "3.9.12"
  }
 },
 "nbformat": 4,
 "nbformat_minor": 5
}
